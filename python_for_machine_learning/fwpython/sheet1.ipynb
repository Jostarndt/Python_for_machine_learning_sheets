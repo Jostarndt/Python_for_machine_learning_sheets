{
 "cells": [
  {
   "cell_type": "markdown",
   "metadata": {},
   "source": [
    "## Before submitting\n",
    "1. Before you turn this problem in, make sure everything runs as expected. First, **restart the kernel** (in the menubar, select Kernel$\\rightarrow$Restart) and then **run all cells** (in the menubar, select Cell$\\rightarrow$Run All).\n",
    "\n",
    "2. Make sure that no assertions fail or exceptions occur, otherwise points will be subtracted.\n",
    "\n",
    "3. Please submit only the `*.ipynb` file.\n",
    "\n",
    "4. Make sure you fill in any place that says `YOUR CODE HERE` or \"YOUR ANSWER HERE\". Edit only between `YOUR CODE HERE` and `END YOUR CODE`.\n",
    "\n",
    "5. Make sure to use Python 3, not Python 2.\n",
    "\n",
    "Fill your group name and collaborators below:"
   ]
  },
  {
   "cell_type": "code",
   "execution_count": 1,
   "metadata": {},
   "outputs": [],
   "source": [
    "GROUPNAME = \"Do Not have one\"\n",
    "COLLABORATORS = \"Jost Arndt\""
   ]
  },
  {
   "cell_type": "markdown",
   "metadata": {},
   "source": [
    "---"
   ]
  },
  {
   "cell_type": "markdown",
   "metadata": {},
   "source": [
    "# Exercise Sheet 1: Python Basics\n",
    "\n",
    "This first  exercise sheet tests the basic functionalities of the Python programming language in the context of a simple prediction task. We consider the problem of predicting health risk of subjects from personal data and habits. We first use for this task a decision tree\n",
    "\n",
    "![](tree.png)\n",
    "\n",
    "adapted from the webpage http://www.refactorthis.net/post/2013/04/10/Machine-Learning-tutorial-How-to-create-a-decision-tree-in-RapidMiner-using-the-Titanic-passenger-data-set.aspx. For this exercise sheet, you are required to use only pure Python, and to not import any module, including numpy. In exercise sheet 2, the nearest neighbor part of this exercise sheet will be revisited with numpy."
   ]
  },
  {
   "cell_type": "markdown",
   "metadata": {},
   "source": [
    "## Classifying a single instance (15 P)\n",
    "\n",
    "* Create a function that takes as input a tuple containing values for attributes (smoker,age,diet), and computes the output of the decision tree. Should return `\"less\"` or `\"more\"`.\n",
    "* Test your function on the tuple `('yes', 31, 'good')`,"
   ]
  },
  {
   "cell_type": "code",
   "execution_count": 2,
   "metadata": {
    "deletable": false,
    "nbgrader": {
     "checksum": "f3e47f689550d7323b8965c76a70298d",
     "grade": false,
     "grade_id": "cell-b66d7278bc313c94",
     "locked": false,
     "schema_version": 1,
     "solution": true
    }
   },
   "outputs": [],
   "source": [
    "def decision(x):\n",
    "    smoke = x[0]\n",
    "    age = int(x[1])\n",
    "    diet = x[2]\n",
    "    \n",
    "    if smoke == 'yes' and age < 29.5:\n",
    "        return 'less'\n",
    "    elif smoke =='yes' and age >= 29.5:\n",
    "        return 'more'\n",
    "    elif smoke != 'yes' and diet == 'good':\n",
    "        return 'less'\n",
    "    elif smoke != 'yes' and diet != 'good':\n",
    "        return 'more'"
   ]
  },
  {
   "cell_type": "code",
   "execution_count": 3,
   "metadata": {
    "deletable": false,
    "editable": false,
    "nbgrader": {
     "checksum": "c0559abdef335108b9edbb4ea3011c4c",
     "grade": true,
     "grade_id": "cell-c31b80471db3132f",
     "locked": true,
     "points": 15,
     "schema_version": 1,
     "solution": false
    }
   },
   "outputs": [],
   "source": [
    "# Test\n",
    "x = ('yes', 31, 'good')\n",
    "assert decision(x) == 'more'\n"
   ]
  },
  {
   "cell_type": "code",
   "execution_count": null,
   "metadata": {},
   "outputs": [],
   "source": []
  },
  {
   "cell_type": "markdown",
   "metadata": {},
   "source": [
    "## Reading a dataset from a text file (10 P)\n",
    "\n",
    "The file `health-test.txt` contains several fictious records of personal data and habits.\n",
    "\n",
    "* Read the file automatically using the methods introduced during the lecture.\n",
    "* Represent the dataset as a list of tuples. Make sure that the tuples have the same format as above, e.g. `('yes', 31, 'good')`.\n",
    "* Make extra note of the datatype of each element"
   ]
  },
  {
   "cell_type": "code",
   "execution_count": 4,
   "metadata": {
    "deletable": false,
    "nbgrader": {
     "checksum": "8217159008caa1db2f6649e3ed092d9f",
     "grade": false,
     "grade_id": "cell-c1a8bc4c0e4ccb26",
     "locked": false,
     "schema_version": 1,
     "solution": true
    }
   },
   "outputs": [],
   "source": [
    "def gettest():\n",
    "    result_list = []\n",
    "    testdata = open(\"health-test.txt\", \"r\")\n",
    "    for line in testdata:\n",
    "        data_list = line.split(',')\n",
    "        data_tuple = [data_list[0].rstrip(), float(data_list[1]), data_list[2].rstrip()]\n",
    "        result_list.append(data_tuple)\n",
    "    return result_list\n",
    "        "
   ]
  },
  {
   "cell_type": "code",
   "execution_count": null,
   "metadata": {
    "deletable": false,
    "editable": false,
    "nbgrader": {
     "checksum": "5a6c609343f9b1d4bb9e02d4cc0abc2e",
     "grade": true,
     "grade_id": "cell-4e1f7ad1e66b3121",
     "locked": true,
     "points": 10,
     "schema_version": 1,
     "solution": false
    }
   },
   "outputs": [],
   "source": []
  },
  {
   "cell_type": "markdown",
   "metadata": {},
   "source": [
    "## Applying the decision tree to the dataset (15 P)\n",
    "\n",
    "* Apply the decision tree to all points in the dataset, and return the ratio of them that are classified as \"more\"."
   ]
  },
  {
   "cell_type": "code",
   "execution_count": 5,
   "metadata": {
    "deletable": false,
    "nbgrader": {
     "checksum": "6a8ebad6d019805a1f317cd25c329cff",
     "grade": false,
     "grade_id": "cell-6703ef98e2b5c93b",
     "locked": false,
     "schema_version": 1,
     "solution": true
    }
   },
   "outputs": [],
   "source": [
    "def evaluate_testset():\n",
    "    morecount = 0\n",
    "    lesscount = 0\n",
    "    testdata = gettest()\n",
    "    for point in testdata:\n",
    "        if decision(point) == \"more\":\n",
    "            morecount +=1\n",
    "        elif decision(point) == \"less\":\n",
    "            lesscount +=1\n",
    "    return float(morecount) / float(morecount + lesscount)"
   ]
  },
  {
   "cell_type": "code",
   "execution_count": null,
   "metadata": {
    "deletable": false,
    "editable": false,
    "nbgrader": {
     "checksum": "2cf754f1f4a98838c63a6840e15ae198",
     "grade": true,
     "grade_id": "cell-c13a0b23c9faba52",
     "locked": true,
     "points": 15,
     "schema_version": 1,
     "solution": false
    }
   },
   "outputs": [],
   "source": []
  },
  {
   "cell_type": "markdown",
   "metadata": {},
   "source": [
    "## Learning from examples (10 P)\n",
    "\n",
    "Suppose that instead of relying on a fixed decision tree, we would like to use a data-driven approach where data points are classified based on a set of training observations manually labeled by experts. Such labeled dataset is available in the file `health-train.txt`. The first three columns have the same meaning than for `health-test.txt`, and the last column corresponds to the labels.\n",
    "\n",
    "* Write a procedure that reads this file and converts it into a list of pairs. The first element of each pair is a triplet of attributes, and the second element is the label."
   ]
  },
  {
   "cell_type": "code",
   "execution_count": 6,
   "metadata": {
    "deletable": false,
    "nbgrader": {
     "checksum": "e6de29aa89d0457a5c0aeb5d7123a2ef",
     "grade": false,
     "grade_id": "cell-fc38ed11fee6fbeb",
     "locked": false,
     "schema_version": 1,
     "solution": true
    }
   },
   "outputs": [],
   "source": [
    "def gettrain():\n",
    "    pair_list = []\n",
    "    traindata = open(\"health-train.txt\", \"r\")\n",
    "    for line in traindata:\n",
    "        line_list=line.split(\",\")\n",
    "        new_tuple =[line_list[0].rstrip(), float(line_list[1]), line_list[2].rstrip()]\n",
    "        newpair = [new_tuple, line_list[3].rstrip()]\n",
    "        pair_list.append(newpair)\n",
    "    return pair_list"
   ]
  },
  {
   "cell_type": "code",
   "execution_count": null,
   "metadata": {
    "deletable": false,
    "editable": false,
    "nbgrader": {
     "checksum": "925716f474f7b0e3a7892e1aebfa217e",
     "grade": true,
     "grade_id": "cell-a3d593f232e0403a",
     "locked": true,
     "points": 10,
     "schema_version": 1,
     "solution": false
    }
   },
   "outputs": [],
   "source": []
  },
  {
   "cell_type": "markdown",
   "metadata": {},
   "source": [
    "## Nearest neighbor classifier (25 P)\n",
    "\n",
    "We consider the nearest neighbor algorithm that classifies test points following the label of the nearest neighbor in the training data. For this, we need to define a distance function between data points. We define it to be\n",
    "\n",
    "`d(a, b) = (a[0] != b[0]) + ((a[1] - b[1]) / 50.0) ** 2 + (a[2] != b[2])`\n",
    "\n",
    "where `a` and `b` are two tuples corrsponding to the attributes of two data points.\n",
    "\n",
    "* Write a function that retrieves for a test point the nearest neighbor in the training set, and classifies the test point accordingly.\n",
    "* Test your function on the tuple `('yes', 31, 'good')`"
   ]
  },
  {
   "cell_type": "code",
   "execution_count": 7,
   "metadata": {
    "deletable": false,
    "nbgrader": {
     "checksum": "87751ef965d915307f761da8071a184f",
     "grade": false,
     "grade_id": "cell-671ea24ec8a11241",
     "locked": false,
     "schema_version": 1,
     "solution": true
    }
   },
   "outputs": [],
   "source": [
    "def neighbor(x, trainset):\n",
    "    distance = 10000000\n",
    "    classification = 'less'\n",
    "    for point in trainset:\n",
    "        if ( (point[0][0] != x[0] ) + point[0][1] + (point[0][2] != x[2]) ) < distance:\n",
    "            classification = point[1]\n",
    "            distance = ((point[0][0] != x[0] ) + point[0][1] + (point[0][2] != x[2]))\n",
    "    return classification"
   ]
  },
  {
   "cell_type": "code",
   "execution_count": 8,
   "metadata": {
    "deletable": false,
    "editable": false,
    "nbgrader": {
     "checksum": "528146e447a25173480343d5fb7fd585",
     "grade": true,
     "grade_id": "cell-a36122337853f195",
     "locked": true,
     "points": 15,
     "schema_version": 1,
     "solution": false
    }
   },
   "outputs": [],
   "source": [
    "# Test\n",
    "x = ('yes', 31, 'good')\n",
    "assert neighbor(x, gettrain()) == \"more\"\n"
   ]
  },
  {
   "cell_type": "markdown",
   "metadata": {},
   "source": [
    "* Apply both the decision tree and nearest neighbor classifiers on the test set, and return the list of data point(s) for which the two classifiers disagree, and with which probability it happens.\n",
    "* A data point should look like above, e.g. `('yes', 31, 'good')`."
   ]
  },
  {
   "cell_type": "code",
   "execution_count": 9,
   "metadata": {
    "deletable": false,
    "nbgrader": {
     "checksum": "d26e5477527236f7db5c7cb6f8589c3a",
     "grade": false,
     "grade_id": "cell-8dbf7da153f3d797",
     "locked": false,
     "schema_version": 1,
     "solution": true
    }
   },
   "outputs": [],
   "source": [
    "def compare():\n",
    "    test_list = gettest()\n",
    "    Xdisagree = []\n",
    "    for entry in test_list:\n",
    "        if neighbor(entry, gettrain()) != decision(entry):\n",
    "            Xdisagree.append(entry)\n",
    "    probability = float(len(Xdisagree))/float(len(test_list))\n",
    "    return Xdisagree, probability"
   ]
  },
  {
   "cell_type": "code",
   "execution_count": 10,
   "metadata": {
    "deletable": false,
    "editable": false,
    "nbgrader": {
     "checksum": "aa0b2ace7df5181b0528208ca0cc0dcc",
     "grade": true,
     "grade_id": "cell-3b55f7e89ad4dfeb",
     "locked": true,
     "points": 10,
     "schema_version": 1,
     "solution": false
    }
   },
   "outputs": [
    {
     "name": "stdout",
     "output_type": "stream",
     "text": [
      "[['yes', 21.0, 'poor'], ['no', 50.0, 'good'], ['no', 23.0, 'good'], ['no', 60.0, 'good'], ['no', 18.0, 'good']]\n"
     ]
    }
   ],
   "source": [
    "Xdisagree, probability = compare()\n",
    "assert type(Xdisagree) == list\n",
    "print(Xdisagree)\n",
    "assert probability >= 0.0 and probability <= 1.0"
   ]
  },
  {
   "cell_type": "markdown",
   "metadata": {},
   "source": [
    "One problem of simple nearest neighbors is that one needs to compare the point to predict to all data points in the training set. This can be slow for datasets of thousands of points or more. Alternatively, some classifiers train a model first, and then use it to classify the data.\n",
    "\n",
    "## Nearest mean classifier (25 P)\n",
    "\n",
    "We consider one such trainable model, which operates in two steps:\n",
    "\n",
    "(1) Compute the average point for each class, (2) classify new points to be of the class whose average point is nearest to the point to predict.\n",
    "\n",
    "For this classifier, we convert the attributes smoker and diet to real values (for smoker: yes=1.0 and no=0.0, and for diet: good=0.0 and poor=1.0), and use the modified distance function:\n",
    "\n",
    "`d(a,b) = (a[0] - b[0]) ** 2 + ((a[1] - b[1]) / 50.0) ** 2 + (a[2] - b[2]) ** 2`\n",
    "\n",
    "We adopt an object-oriented approach for building this classifier.\n",
    "\n",
    "* Implement the methods `train` and `predict` of the class `NearestMeanClassifier`."
   ]
  },
  {
   "cell_type": "code",
   "execution_count": 11,
   "metadata": {
    "deletable": false,
    "nbgrader": {
     "checksum": "303bfe831913b6c12d012e06b0815e0c",
     "grade": false,
     "grade_id": "cell-e0b339bfd0fcc16c",
     "locked": false,
     "schema_version": 1,
     "solution": true
    }
   },
   "outputs": [],
   "source": [
    "class NearestMeanClassifier:\n",
    "    more_counter = 0\n",
    "    less_counter = 0\n",
    "    average_more = [0.0,0.0,0.0] \n",
    "    average_less = [0.0,0.0,0.0]\n",
    "    def distance(a, b):\n",
    "        return (a[0] - b[0]) ** 2 + ((a[1] - b[1]) / 50.0) ** 2 + (a[2] - b[2]) ** 2\n",
    "    def train(self, dataset):\n",
    "        for point in dataset:\n",
    "            if point[1]==\"more\":\n",
    "                if point[0][1]==\"yes\":\n",
    "                    self.average_more[0]=+1\n",
    "                if point[0][2]==\"poor\":\n",
    "                    self.average_more[2]=+1\n",
    "                point[0][1]+=1\n",
    "                self.more_counter += 1\n",
    "            elif point[1]==\"less\":\n",
    "                if point[0][1]==\"yes\":\n",
    "                    self.average_less[0]=+1\n",
    "                if point[0][2]==\"poor\":\n",
    "                    self.average_less[2]=+1\n",
    "                point[0][1]+=1\n",
    "                self.less_counter += 1\n",
    "        self.average_less[0] = float(self.average_less[0]/float(self.less_counter))\n",
    "        self.average_less[1] = float(self.average_less[1]/float(self.less_counter))\n",
    "        self.average_less[2] = float(self.average_less[2]/float(self.less_counter))\n",
    "        self.average_more[0] = float(self.average_more[0]/float(self.more_counter))\n",
    "        self.average_more[1] = float(self.average_more[1]/float(self.more_counter))\n",
    "        self.average_more[2] = float(self.average_more[2]/float(self.more_counter))\n",
    "                \n",
    "    def predict(self, x):\n",
    "        if x[0]==\"yes\":\n",
    "            x[0]=1.0\n",
    "        elif x[0] == \"no\":\n",
    "            x[0]= 0\n",
    "        if x[2]==\"poor\":\n",
    "            x[2]= 1.0\n",
    "        elif x[2] == \"good\":\n",
    "            x[2]=0.0\n",
    "        if ((self.average_less[0]-x[0])**2 +((self.average_less[1]-x[1])/50.0)**2 + (self.average_less[2]-x[2])**2  < (self.average_more[0]-float(x[0]))**2 + ((self.average_more[1]-float(x[1]))/50.0)**2 + (self.average_more[2]-float(x[2]))**2):\n",
    "            return \"less\"\n",
    "        else:\n",
    "            return \"more\""
   ]
  },
  {
   "cell_type": "markdown",
   "metadata": {},
   "source": [
    "* Build an object of class `NearestMeanClassifier`, train it on the training data, and return the mean vector for each class. You should return a dictionary with keys `less` and `more`. Each key should correspond to a mean vector."
   ]
  },
  {
   "cell_type": "code",
   "execution_count": 12,
   "metadata": {
    "deletable": false,
    "nbgrader": {
     "checksum": "e41c5c9134feb3a505677bc939acc25d",
     "grade": false,
     "grade_id": "cell-5f7f00ee83c94703",
     "locked": false,
     "schema_version": 1,
     "solution": true
    }
   },
   "outputs": [],
   "source": [
    "def build_and_train():\n",
    "    Objekt = NearestMeanClassifier()\n",
    "    Objekt.train(gettrain())\n",
    "    mean_more = Objekt.average_more\n",
    "    mean_less = Objekt.average_less\n",
    "build_and_train()"
   ]
  },
  {
   "cell_type": "code",
   "execution_count": null,
   "metadata": {
    "deletable": false,
    "editable": false,
    "nbgrader": {
     "checksum": "686cebaaedb7e41b87361a8408661ab1",
     "grade": true,
     "grade_id": "cell-415891bde4cbde19",
     "locked": true,
     "points": 15,
     "schema_version": 1,
     "solution": false
    }
   },
   "outputs": [],
   "source": []
  },
  {
   "cell_type": "markdown",
   "metadata": {},
   "source": [
    "* Predict the test data using the nearest mean classifier and return all test examples for which all three classifiers (decision tree, nearest neighbor and nearest mean) agree. You should return a list containing tuples. Each tuple should contain the datapoint and the prediction i.e.\n",
    "\n",
    "`[(('no', 50, 'good'), 'less'), ... ]`"
   ]
  },
  {
   "cell_type": "code",
   "execution_count": 13,
   "metadata": {
    "deletable": false,
    "nbgrader": {
     "checksum": "29945175006a71d97e57588c9c524df1",
     "grade": false,
     "grade_id": "cell-f37f3035a32a8f85",
     "locked": false,
     "schema_version": 1,
     "solution": true
    }
   },
   "outputs": [
    {
     "data": {
      "text/plain": [
       "[([1.0, 21.0, 1.0], 'more'),\n",
       " ([1.0, 45.0, 1.0], 'more'),\n",
       " ([0, 15.0, 1.0], 'more')]"
      ]
     },
     "execution_count": 13,
     "metadata": {},
     "output_type": "execute_result"
    }
   ],
   "source": [
    "def predict_test():\n",
    "    Object = NearestMeanClassifier()\n",
    "    Object.train(gettrain())\n",
    "    test = gettest()\n",
    "    agreed_samples = []\n",
    "    for point in test:\n",
    "        if Object.predict(point) == decision(point) and decision(point)== neighbor(point, gettrain()):\n",
    "            tup = (point, decision(x))\n",
    "            agreed_samples.append(tup)\n",
    "    return agreed_samples\n",
    "predict_test()"
   ]
  },
  {
   "cell_type": "code",
   "execution_count": null,
   "metadata": {
    "deletable": false,
    "editable": false,
    "nbgrader": {
     "checksum": "951f7d822b4c3475ab6dc89fa3c87d46",
     "grade": true,
     "grade_id": "cell-853c957eaaf81c28",
     "locked": true,
     "points": 10,
     "schema_version": 1,
     "solution": false
    }
   },
   "outputs": [],
   "source": []
  },
  {
   "cell_type": "code",
   "execution_count": null,
   "metadata": {},
   "outputs": [],
   "source": []
  },
  {
   "cell_type": "code",
   "execution_count": null,
   "metadata": {},
   "outputs": [],
   "source": []
  },
  {
   "cell_type": "code",
   "execution_count": null,
   "metadata": {},
   "outputs": [],
   "source": []
  },
  {
   "cell_type": "code",
   "execution_count": null,
   "metadata": {},
   "outputs": [],
   "source": []
  },
  {
   "cell_type": "code",
   "execution_count": null,
   "metadata": {},
   "outputs": [],
   "source": []
  }
 ],
 "metadata": {
  "kernelspec": {
   "display_name": "Python 3",
   "language": "python",
   "name": "python3"
  },
  "language_info": {
   "codemirror_mode": {
    "name": "ipython",
    "version": 3
   },
   "file_extension": ".py",
   "mimetype": "text/x-python",
   "name": "python",
   "nbconvert_exporter": "python",
   "pygments_lexer": "ipython3",
   "version": "3.6.6"
  }
 },
 "nbformat": 4,
 "nbformat_minor": 1
}
